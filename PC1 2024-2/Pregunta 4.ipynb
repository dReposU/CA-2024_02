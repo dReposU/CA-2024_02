{
 "cells": [
  {
   "cell_type": "markdown",
   "metadata": {
    "id": "uJa515zThMHt"
   },
   "source": [
    "Escribir un programa usando alguna técnica o estrategia algorítmica para resolver el siguiente reto matemático, es importante indicar cuál es la técnica que ha usado. En la solución solo puede usar números diferentes entre 1 y 5.\n",
    "\n",
    "El reto es: \\\n",
    "_ _ $\\times$ _ $=$ _ _ \\\n",
    "donde en _ va un entero del 0 al 9, se tiene que cumplir que todos los espacios son dígitos diferentes.\n",
    "\n",
    "EJEMPLO:\n",
    "\n",
    "15 * 3 = 45, no es una solución porque el 5 se repite dos veces.\n",
    "\n",
    "15 * 2 = 30, si es una solución porque usa números diferentes.\n",
    "\n",
    "\n",
    "\n",
    "El programa debe mostrar/imprimir todas las soluciones.\n",
    "\n",
    "\n",
    "\n",
    "Indiqué que técnica utilizó para su implementación y por qué la eligió."
   ]
  },
  {
   "cell_type": "markdown",
   "metadata": {
    "id": "eVf16idzjtLq"
   },
   "source": [
    "Notar que los ejemplos del enunciado están mal, pues $15 \\times 2 = 30$ tiene un dígito que no está entre el 1 y el 5, que es el 0 del 30."
   ]
  },
  {
   "cell_type": "markdown",
   "metadata": {
    "id": "NLarshmRkehk"
   },
   "source": [
    "# Solución"
   ]
  },
  {
   "cell_type": "markdown",
   "metadata": {
    "id": "-uKxGCa1kg74"
   },
   "source": [
    "Utilizamos fuerza bruta que consiste en generar todas las posibles combinaciones de multiplicandos, multiplicadores y productos, y luego verificar cuáles de ellas cumplen con las condiciones impuestas (dígitos únicos y dentro del rango 1-5). Este método garantiza que se prueben todas las combinaciones posibles, lo que asegura que se encontrarán todas las soluciones válidas."
   ]
  },
  {
   "cell_type": "code",
   "execution_count": 2,
   "metadata": {
    "colab": {
     "base_uri": "https://localhost:8080/"
    },
    "executionInfo": {
     "elapsed": 256,
     "status": "ok",
     "timestamp": 1725462203852,
     "user": {
      "displayName": "Danieu .w",
      "userId": "01808073208982440196"
     },
     "user_tz": 300
    },
    "id": "4UO23jqaj8ac",
    "outputId": "b1f46050-5c09-4d0f-9bfa-be65cd35f65c"
   },
   "outputs": [
    {
     "name": "stdout",
     "output_type": "stream",
     "text": [
      "13 * 4 = 52\n"
     ]
    }
   ],
   "source": [
    "def es_unico_y_valido(num):\n",
    "    \"\"\"\n",
    "    Verifica si un número tiene todos sus dígitos únicos y dentro del rango de 1 a 5.\n",
    "    \"\"\"\n",
    "    str_num = str(num)\n",
    "    return len(set(str_num)) == len(str_num) and all('1' <= digito <= '5' for digito in str_num)\n",
    "\n",
    "def buscar_soluciones():\n",
    "    \"\"\"\n",
    "    Busca todas las soluciones posibles para la ecuación _ _ × _ = _ _\n",
    "    donde todos los dígitos son únicos, diferentes entre sí, y están entre 1 y 5.\n",
    "    \"\"\"\n",
    "    soluciones = []\n",
    "\n",
    "    for multiplicando in range(11, 56):  # _ _ tiene dos dígitos entre 1 y 5\n",
    "        if not es_unico_y_valido(multiplicando):\n",
    "            continue\n",
    "\n",
    "        for multiplicador in range(1, 6):  # _ tiene un dígito entre 1 y 5\n",
    "            if not es_unico_y_valido(multiplicador):\n",
    "                continue\n",
    "\n",
    "            producto = multiplicando * multiplicador\n",
    "\n",
    "            if producto < 11 or producto > 55:  # El producto debe ser de dos dígitos entre 1 y 5\n",
    "                continue\n",
    "\n",
    "            if not es_unico_y_valido(producto):\n",
    "                continue\n",
    "\n",
    "            # Verificamos si todos los dígitos son únicos entre sí\n",
    "            concatenacion = str(multiplicando) + str(multiplicador) + str(producto)\n",
    "            if len(concatenacion) == len(set(concatenacion)):  # Todos los dígitos son diferentes\n",
    "                soluciones.append(f\"{multiplicando} * {multiplicador} = {producto}\")\n",
    "\n",
    "    return soluciones\n",
    "\n",
    "# Ejecutar el programa y mostrar todas las soluciones\n",
    "soluciones = buscar_soluciones()\n",
    "for solucion in soluciones:\n",
    "    print(solucion)\n"
   ]
  },
  {
   "cell_type": "markdown",
   "metadata": {
    "id": "wCXZPN17kO-L"
   },
   "source": [
    "# Multiplicando de dos dígitos y multiplicador de un dígito con respuesta de 2 dígitos deben tener necesariamente dígitos diferentes entre todos los dígitos"
   ]
  },
  {
   "cell_type": "code",
   "execution_count": 3,
   "metadata": {
    "colab": {
     "base_uri": "https://localhost:8080/"
    },
    "executionInfo": {
     "elapsed": 228,
     "status": "ok",
     "timestamp": 1725462197477,
     "user": {
      "displayName": "Danieu .w",
      "userId": "01808073208982440196"
     },
     "user_tz": 300
    },
    "id": "n2rmW5uch5Bm",
    "outputId": "eff8298d-3701-43fd-8fe6-3857d59a0c00"
   },
   "outputs": [
    {
     "name": "stdout",
     "output_type": "stream",
     "text": [
      "31\n",
      "12 * 5 = 60\n",
      "12 * 7 = 84\n",
      "12 * 8 = 96\n",
      "13 * 4 = 52\n",
      "13 * 6 = 78\n",
      "14 * 5 = 70\n",
      "14 * 7 = 98\n",
      "15 * 2 = 30\n",
      "15 * 4 = 60\n",
      "15 * 6 = 90\n",
      "16 * 3 = 48\n",
      "16 * 5 = 80\n",
      "17 * 2 = 34\n",
      "17 * 4 = 68\n",
      "18 * 2 = 36\n",
      "18 * 3 = 54\n",
      "18 * 4 = 72\n",
      "18 * 5 = 90\n",
      "19 * 2 = 38\n",
      "19 * 3 = 57\n",
      "19 * 4 = 76\n",
      "26 * 3 = 78\n",
      "27 * 3 = 81\n",
      "29 * 3 = 87\n",
      "34 * 2 = 68\n",
      "35 * 2 = 70\n",
      "38 * 2 = 76\n",
      "39 * 2 = 78\n",
      "43 * 2 = 86\n",
      "45 * 2 = 90\n",
      "48 * 2 = 96\n"
     ]
    }
   ],
   "source": [
    "def es_unico(num):\n",
    "    \"\"\"\n",
    "    Verifica si un número tiene todos sus dígitos únicos.\n",
    "    \"\"\"\n",
    "    str_num = str(num)\n",
    "    return len(set(str_num)) == len(str_num)\n",
    "\n",
    "def buscar_soluciones():\n",
    "    \"\"\"\n",
    "    Busca todas las soluciones posibles para la ecuación _ _ × _ = _ _\n",
    "    donde todos los dígitos son únicos y diferentes entre sí.\n",
    "    \"\"\"\n",
    "    soluciones = []\n",
    "\n",
    "    for multiplicando in range(10, 100):  # _ _ tiene dos dígitos\n",
    "        if not es_unico(multiplicando):\n",
    "            continue\n",
    "\n",
    "        for multiplicador in range(1, 10):  # _ tiene un dígito\n",
    "\n",
    "            producto = multiplicando * multiplicador\n",
    "\n",
    "            if producto < 10 or producto > 99:  # El producto debe ser de dos dígitos\n",
    "                continue\n",
    "\n",
    "            # Verificamos si todos los dígitos son únicos entre sí\n",
    "            concatenacion = str(multiplicando) + str(multiplicador) + str(producto)\n",
    "            if len(concatenacion) == len(set(concatenacion)):  # Todos los dígitos son diferentes\n",
    "                soluciones.append(f\"{multiplicando} * {multiplicador} = {producto}\")\n",
    "\n",
    "    return soluciones\n",
    "\n",
    "# Ejecutar el programa y mostrar las soluciones\n",
    "soluciones = buscar_soluciones()\n",
    "# print size of soluciones\n",
    "print(len(soluciones))\n",
    "for solucion in soluciones:\n",
    "    print(solucion)\n"
   ]
  }
 ],
 "metadata": {
  "colab": {
   "authorship_tag": "ABX9TyPKygMiFikzRBzuqucsg+5f",
   "provenance": []
  },
  "kernelspec": {
   "display_name": "Python 3",
   "name": "python3"
  },
  "language_info": {
   "codemirror_mode": {
    "name": "ipython",
    "version": 3
   },
   "file_extension": ".py",
   "mimetype": "text/x-python",
   "name": "python",
   "nbconvert_exporter": "python",
   "pygments_lexer": "ipython3",
   "version": "3.12.6"
  }
 },
 "nbformat": 4,
 "nbformat_minor": 0
}
