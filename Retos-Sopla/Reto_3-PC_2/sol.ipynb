{
 "cells": [
  {
   "cell_type": "markdown",
   "metadata": {},
   "source": [
    "# Reto 3"
   ]
  },
  {
   "cell_type": "markdown",
   "metadata": {},
   "source": [
    "Se usó Copilot y ChatGPT para el brainstorming"
   ]
  },
  {
   "cell_type": "code",
   "execution_count": null,
   "metadata": {},
   "outputs": [],
   "source": [
    "class CoinChange:\n",
    "    def __init__(self, A, B, C, D, N):\n",
    "        # Validate that all coin values are unique\n",
    "        if len({A, B, C, D}) != 4:\n",
    "            raise ValueError(\"A, B, C, and D must be unique values.\")\n",
    "        \n",
    "        # Sort coins in descending order\n",
    "        self.coins = sorted([A, B, C, D], reverse=True)\n",
    "        self.target = N\n",
    "\n",
    "    def set_coins(self, A, B, C, D):\n",
    "        \"\"\"Update coin values and validate uniqueness.\"\"\"\n",
    "        if len({A, B, C, D}) != 4:\n",
    "            raise ValueError(\"A, B, C, and D must be unique values.\")\n",
    "        self.coins = sorted([A, B, C, D], reverse=True)\n",
    "\n",
    "    \"\"\"\n",
    "    if (a + 1 < b):\n",
    "    b = a\n",
    "\n",
    "    same as\n",
    "\n",
    "    b = min(b, a + 1)\n",
    "    b = a + 1 if a + 1 < b else b\n",
    "    \"\"\"\n",
    "\n",
    "    def _find_minimum_change_dp(self):\n",
    "        \"\"\"Private method to find the minimum number of coins using DP.\"\"\"\n",
    "        # Create DP array to store minimum coins for each amount\n",
    "        dp = [self.target + 1] * (self.target + 1)\n",
    "        dp[0] = 0 # coins to reach the amount of 0 are 0\n",
    "        coin_used = [-1] * (self.target + 1)\n",
    "\n",
    "        # Populate DP array\n",
    "        for a in range(1, self.target + 1): # a stands for amount\n",
    "            for coin in reversed(self.coins): # we start from the lowest coin (Bottom-up)\n",
    "                if a >= coin and dp[a - coin] + 1 < dp[a]:\n",
    "                    dp[a] = dp[a - coin] + 1\n",
    "                    coin_used[a] = coin\n",
    "        \n",
    "        # Trace back to find the coin distribution\n",
    "        if dp[self.target] == self.target + 1:\n",
    "            return -1, None  # No solution possible\n",
    "\n",
    "        amount = self.target\n",
    "        detail = {coin: 0 for coin in self.coins}\n",
    "        while amount > 0:\n",
    "            coin = coin_used[amount] # The last coin used to reach the amount \n",
    "            detail[coin] += 1\n",
    "            amount -= coin\n",
    "        # Detail of just one solution\n",
    "        return dp[self.target], detail\n",
    "\n",
    "    def _find_maximum_change_dp(self):\n",
    "        \"\"\"Private method to find the maximum number of coins using DP.\"\"\"\n",
    "        # Create DP array to store maximum coins for each amount\n",
    "        dp = [-(self.target + 1)] * (self.target + 1)\n",
    "        dp[0] = 0\n",
    "        coin_used = [-1] * (self.target + 1)\n",
    "\n",
    "        # Populate DP array\n",
    "        for a in range(1, self.target + 1):\n",
    "            for coin in self.coins:  # Use reversed for maximum coins\n",
    "                if a >= coin and dp[a - coin] + 1 > dp[a]:\n",
    "                    dp[a] = dp[a - coin] + 1\n",
    "                    coin_used[a] = coin\n",
    "        \n",
    "        # Trace back to find the coin distribution\n",
    "        if dp[self.target] == -(self.target + 1):\n",
    "            return -1, None  # No solution possible\n",
    "\n",
    "        amount = self.target\n",
    "        detail = {coin: 0 for coin in self.coins}\n",
    "        while amount > 0:\n",
    "            coin = coin_used[amount]\n",
    "            detail[coin] += 1\n",
    "            amount -= coin\n",
    "\n",
    "        return dp[self.target], detail\n",
    "\n",
    "    def print_change_details(self, change_type=\"min\"):\n",
    "        \"\"\"Public method to print details of the coin change solution.\"\"\"\n",
    "        if change_type == \"min\":\n",
    "            coin_count, detail = self._find_minimum_change_dp()\n",
    "        elif change_type == \"max\":\n",
    "            coin_count, detail = self._find_maximum_change_dp()\n",
    "        else:\n",
    "            raise ValueError(\"Invalid change type. Use 'min' or 'max'.\")\n",
    "\n",
    "        # Guard clause for no solution\n",
    "        if coin_count == -1:\n",
    "            print(\"No solution possible.\")\n",
    "            return\n",
    "\n",
    "        # Print the details\n",
    "        details_str = \" + \".join(f\"{count}({coin})\" for coin, count in detail.items() if count > 0)\n",
    "        print(f\"{details_str} = {self.target}\")\n",
    "        print(f\"Total coins used: {coin_count}\")"
   ]
  },
  {
   "cell_type": "code",
   "execution_count": 45,
   "metadata": {},
   "outputs": [],
   "source": [
    "c = CoinChange(5, 4, 3, 1, 7)"
   ]
  },
  {
   "cell_type": "markdown",
   "metadata": {},
   "source": [
    "La repuesta se enseña así: cantidad de la moneda 1*(valor de la moneda 1) + ... = monto total y el total de monedas usadas.  \n",
    "Además, solo muestra una única respuesta aunque hayan múltiples maneras de resolverlo."
   ]
  },
  {
   "cell_type": "code",
   "execution_count": 46,
   "metadata": {},
   "outputs": [
    {
     "name": "stdout",
     "output_type": "stream",
     "text": [
      "1(4) + 1(3) = 7\n",
      "Total coins used: 2\n"
     ]
    }
   ],
   "source": [
    "c.print_change_details() "
   ]
  },
  {
   "cell_type": "code",
   "execution_count": 47,
   "metadata": {},
   "outputs": [
    {
     "name": "stdout",
     "output_type": "stream",
     "text": [
      "2(5) + 1(4) + 1(3) = 17\n",
      "Total coins used: 4\n"
     ]
    }
   ],
   "source": [
    "c.target = 17\n",
    "c.print_change_details()"
   ]
  },
  {
   "cell_type": "code",
   "execution_count": 48,
   "metadata": {},
   "outputs": [
    {
     "name": "stdout",
     "output_type": "stream",
     "text": [
      "No solution possible.\n"
     ]
    }
   ],
   "source": [
    "c.set_coins(21, 22, 23, 24)\n",
    "c.print_change_details()"
   ]
  },
  {
   "cell_type": "code",
   "execution_count": 49,
   "metadata": {},
   "outputs": [
    {
     "name": "stdout",
     "output_type": "stream",
     "text": [
      "Coins: [82, 70, 67, 8], Target: 108\n",
      "No solution possible.\n",
      "\n",
      "Coins: [88, 17, 7, 3], Target: 284\n",
      "3(88) + 1(17) + 1(3) = 284\n",
      "Total coins used: 5\n",
      "\n",
      "Coins: [57, 41, 32, 7], Target: 192\n",
      "3(57) + 3(7) = 192\n",
      "Total coins used: 6\n",
      "\n",
      "Coins: [68, 67, 58, 7], Target: 150\n",
      "2(68) + 2(7) = 150\n",
      "Total coins used: 4\n",
      "\n",
      "Coins: [72, 48, 20, 17], Target: 171\n",
      "1(72) + 1(48) + 3(17) = 171\n",
      "Total coins used: 5\n",
      "\n"
     ]
    }
   ],
   "source": [
    "import random\n",
    "\n",
    "for _ in range(5):\n",
    "    coins = random.sample(range(1, 100), 4)\n",
    "    target = random.randint(100, 300)\n",
    "    c.set_coins(*coins) # No importa que las monedas estén desordenadas porque se ordenan internamente\n",
    "    c.target = target\n",
    "    print(f\"Coins: {c.coins}, Target: {c.target}\") \n",
    "    c.print_change_details()\n",
    "    print()"
   ]
  },
  {
   "cell_type": "markdown",
   "metadata": {},
   "source": [
    "[Prompt to make the class](https://chatgpt.com/share/672b8936-4d6c-800c-8c2a-f500bc10fde8) and to get the [CPP code](https://chatgpt.com/share/672b8958-a768-800c-b55f-7838cabc4231)  \n",
    "Tested the CPP in [LeetCode](https://leetcode.com/problems/coin-change/submissions/1444877557) (This is a private link)\n"
   ]
  }
 ],
 "metadata": {
  "kernelspec": {
   "display_name": "Python 3",
   "language": "python",
   "name": "python3"
  },
  "language_info": {
   "codemirror_mode": {
    "name": "ipython",
    "version": 3
   },
   "file_extension": ".py",
   "mimetype": "text/x-python",
   "name": "python",
   "nbconvert_exporter": "python",
   "pygments_lexer": "ipython3",
   "version": "3.11.9"
  }
 },
 "nbformat": 4,
 "nbformat_minor": 2
}
