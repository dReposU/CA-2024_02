{
 "cells": [
  {
   "cell_type": "markdown",
   "metadata": {},
   "source": [
    "# Reto 3"
   ]
  },
  {
   "cell_type": "markdown",
   "metadata": {},
   "source": [
    "Se usó Copilot y ChatGPT para el brainstorming"
   ]
  },
  {
   "cell_type": "code",
   "execution_count": null,
   "metadata": {},
   "outputs": [],
   "source": [
    "class CoinChange:\n",
    "    def __init__(self, A, B, C, D, N):\n",
    "        # Validate that all coin values are unique\n",
    "        if len({A, B, C, D}) != 4:\n",
    "            raise ValueError(\"A, B, C, and D must be unique values.\")\n",
    "        \n",
    "        # Sort coins in descending order\n",
    "        self.coins = sorted([A, B, C, D], reverse=True)\n",
    "        self.target = N\n",
    "\n",
    "    def set_coins(self, A, B, C, D):\n",
    "        \"\"\"Update coin values and validate uniqueness.\"\"\"\n",
    "        if len({A, B, C, D}) != 4:\n",
    "            raise ValueError(\"A, B, C, and D must be unique values.\")\n",
    "        self.coins = sorted([A, B, C, D], reverse=True)\n",
    "\n",
    "    \"\"\"\n",
    "    if (a + 1 < b):\n",
    "    b = a\n",
    "\n",
    "    same as\n",
    "\n",
    "    b = min(b, a + 1)\n",
    "    b = a + 1 if a + 1 < b else b\n",
    "    \"\"\"\n",
    "\n",
    "    def _find_minimum_change_dp(self):\n",
    "        \"\"\"Private method to find the minimum number of coins using DP.\"\"\"\n",
    "        # Create DP array to store minimum coins for each amount\n",
    "        dp = [self.target + 1] * (self.target + 1)\n",
    "        dp[0] = 0 # coins to reach the amount of 0 are 0\n",
    "        coin_used = [-1] * (self.target + 1)\n",
    "\n",
    "        # Populate DP array\n",
    "        for a in range(1, self.target + 1): # a stands for amount\n",
    "            for coin in self.coins:\n",
    "                if a >= coin and dp[a - coin] + 1 < dp[a]:\n",
    "                    dp[a] = dp[a - coin] + 1\n",
    "                    coin_used[a] = coin\n",
    "        \n",
    "        # Trace back to find the coin distribution\n",
    "        if dp[self.target] == self.target + 1:\n",
    "            return -1, None  # No solution possible\n",
    "\n",
    "        amount = self.target\n",
    "        detail = {coin: 0 for coin in self.coins}\n",
    "        while amount > 0:\n",
    "            coin = coin_used[amount] # The last coin used to reach the amount \n",
    "            detail[coin] += 1\n",
    "            amount -= coin\n",
    "        # Detail of just one solution\n",
    "        return dp[self.target], detail\n",
    "\n",
    "    def _find_maximum_change_dp(self):\n",
    "        \"\"\"Private method to find the maximum number of coins using DP.\"\"\"\n",
    "        # Create DP array to store maximum coins for each amount\n",
    "        dp = [-(self.target + 1)] * (self.target + 1)\n",
    "        dp[0] = 0\n",
    "        coin_used = [-1] * (self.target + 1)\n",
    "\n",
    "        # Populate DP array\n",
    "        for a in range(1, self.target + 1):\n",
    "            for coin in reversed(self.coins):  # Use reversed for maximum coins\n",
    "                if a >= coin and dp[a - coin] + 1 > dp[a]:\n",
    "                    dp[a] = dp[a - coin] + 1\n",
    "                    coin_used[a] = coin\n",
    "        \n",
    "        # Trace back to find the coin distribution\n",
    "        if dp[self.target] == -(self.target + 1):\n",
    "            return -1, None  # No solution possible\n",
    "\n",
    "        amount = self.target\n",
    "        detail = {coin: 0 for coin in self.coins}\n",
    "        while amount > 0:\n",
    "            coin = coin_used[amount]\n",
    "            detail[coin] += 1\n",
    "            amount -= coin\n",
    "\n",
    "        return dp[self.target], detail\n",
    "\n",
    "    def print_change_details(self, change_type=\"min\"):\n",
    "        \"\"\"Public method to print details of the coin change solution.\"\"\"\n",
    "        if change_type == \"min\":\n",
    "            coin_count, detail = self._find_minimum_change_dp()\n",
    "        elif change_type == \"max\":\n",
    "            coin_count, detail = self._find_maximum_change_dp()\n",
    "        else:\n",
    "            raise ValueError(\"Invalid change type. Use 'min' or 'max'.\")\n",
    "\n",
    "        # Guard clause for no solution\n",
    "        if coin_count == -1:\n",
    "            print(\"No solution possible.\")\n",
    "            return\n",
    "\n",
    "        # Print the details\n",
    "        details_str = \" + \".join(f\"{count}({coin})\" for coin, count in detail.items() if count > 0)\n",
    "        print(f\"{details_str} = {self.target}\")\n",
    "        print(f\"Total coins used: {coin_count}\")"
   ]
  },
  {
   "cell_type": "code",
   "execution_count": 33,
   "metadata": {},
   "outputs": [],
   "source": [
    "c = CoinChange(5, 4, 3, 1, 7)"
   ]
  },
  {
   "cell_type": "markdown",
   "metadata": {},
   "source": [
    "La repuesta se enseña así: cantidad de la moneda 1*(valor de la moneda 1) + ... = monto total y el total de monedas usadas.  \n",
    "Además, solo muestra una única respuesta aunque hayan múltiples maneras de resolverlo."
   ]
  },
  {
   "cell_type": "code",
   "execution_count": 34,
   "metadata": {},
   "outputs": [
    {
     "name": "stdout",
     "output_type": "stream",
     "text": [
      "1(4) + 1(3) = 7\n",
      "Total coins used: 2\n"
     ]
    }
   ],
   "source": [
    "c.print_change_details() "
   ]
  },
  {
   "cell_type": "code",
   "execution_count": 35,
   "metadata": {},
   "outputs": [
    {
     "name": "stdout",
     "output_type": "stream",
     "text": [
      "2(5) + 1(4) + 1(3) = 17\n",
      "Total coins used: 4\n"
     ]
    }
   ],
   "source": [
    "c.target = 17\n",
    "c.print_change_details()"
   ]
  },
  {
   "cell_type": "code",
   "execution_count": 36,
   "metadata": {},
   "outputs": [
    {
     "name": "stdout",
     "output_type": "stream",
     "text": [
      "No solution possible.\n"
     ]
    }
   ],
   "source": [
    "c.set_coins(21, 22, 23, 24)\n",
    "c.print_change_details()"
   ]
  },
  {
   "cell_type": "code",
   "execution_count": 37,
   "metadata": {},
   "outputs": [
    {
     "name": "stdout",
     "output_type": "stream",
     "text": [
      "Coins: [85, 46, 21, 11], Target: 202\n",
      "2(85) + 1(21) + 1(11) = 202\n",
      "Total coins used: 4\n",
      "\n",
      "Coins: [93, 87, 84, 36], Target: 131\n",
      "No solution possible.\n",
      "\n",
      "Coins: [62, 46, 23, 6], Target: 164\n",
      "2(46) + 12(6) = 164\n",
      "Total coins used: 14\n",
      "\n",
      "Coins: [95, 50, 21, 15], Target: 280\n",
      "5(50) + 2(15) = 280\n",
      "Total coins used: 7\n",
      "\n",
      "Coins: [71, 60, 11, 4], Target: 272\n",
      "3(71) + 5(11) + 1(4) = 272\n",
      "Total coins used: 9\n",
      "\n"
     ]
    }
   ],
   "source": [
    "import random\n",
    "\n",
    "for _ in range(5):\n",
    "    coins = random.sample(range(1, 100), 4)\n",
    "    target = random.randint(100, 300)\n",
    "    c.set_coins(*coins) # No importa que las monedas estén desordenadas porque se ordenan internamente\n",
    "    c.target = target\n",
    "    print(f\"Coins: {c.coins}, Target: {c.target}\") \n",
    "    c.print_change_details()\n",
    "    print()"
   ]
  },
  {
   "cell_type": "markdown",
   "metadata": {},
   "source": [
    "tested in [cpp](https://leetcode.com/problems/coin-change/submissions/1444877557) (This is a private link)"
   ]
  }
 ],
 "metadata": {
  "kernelspec": {
   "display_name": "Python 3",
   "language": "python",
   "name": "python3"
  },
  "language_info": {
   "codemirror_mode": {
    "name": "ipython",
    "version": 3
   },
   "file_extension": ".py",
   "mimetype": "text/x-python",
   "name": "python",
   "nbconvert_exporter": "python",
   "pygments_lexer": "ipython3",
   "version": "3.11.9"
  }
 },
 "nbformat": 4,
 "nbformat_minor": 2
}
