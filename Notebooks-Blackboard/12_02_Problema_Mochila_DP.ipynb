{
  "nbformat": 4,
  "nbformat_minor": 0,
  "metadata": {
    "colab": {
      "name": "Problema-Mochila-DP.ipynb",
      "provenance": [],
      "collapsed_sections": []
    },
    "kernelspec": {
      "name": "python3",
      "display_name": "Python 3"
    },
    "language_info": {
      "name": "python"
    }
  },
  "cells": [
    {
      "cell_type": "markdown",
      "source": [
        "# **Problema de la Mochila - Enfoque Programación Dinámica**"
      ],
      "metadata": {
        "id": "uaJvh65CmN5E"
      }
    },
    {
      "cell_type": "code",
      "execution_count": 3,
      "metadata": {
        "id": "isWpuh9tkjhU"
      },
      "outputs": [],
      "source": [
        "'''\n",
        "Capacidad de la mochila = W\n",
        "Lista de pesos : wt = []\n",
        "Lista de precios : pr = []\n",
        "No. de productos = N\n",
        "'''\n",
        "def kProfit(W,N,wt,pr,dp):\n",
        "    # Condicion Base\n",
        "    if N==0 or W==0:\n",
        "        return 0\n",
        "    # Si el subproblema se resolvió previamente, lo devolvemos\n",
        "    if dp[N][W] is not None:\n",
        "        return dp[N][W]\n",
        "    if wt[N-1] <= W:\n",
        "        dp[N][W] = max(pr[N-1]+kProfit(W-wt[N-1],N-1,wt,pr,dp), kProfit(W,N-1,wt,pr,dp))\n",
        "        return dp[N][W]\n",
        "    else:\n",
        "        dp[N][W] = kProfit(W,N-1,wt,pr,dp)\n",
        "\n",
        "        #print(dp)\n",
        "        return dp[N][W]\n"
      ]
    },
    {
      "cell_type": "code",
      "source": [
        "if __name__ == '__main__':\n",
        "    W = 11\n",
        "    wt = [1, 2, 5, 6, 7]\n",
        "    pr = [1, 6, 18, 22, 28]\n",
        "    N = len(pr)\n",
        "    # Definir arreglo DP\n",
        "    dp = [[None] * (W + 1) for _ in range(N + 1)]\n",
        "    # Llame a kProfit para calcular el beneficio máximo\n",
        "    maxProfit = kProfit(W,N,wt,pr,dp)\n",
        "    print('Maximo beneficio es : ',maxProfit)"
      ],
      "metadata": {
        "colab": {
          "base_uri": "https://localhost:8080/"
        },
        "id": "NbXRIfdVk6id",
        "outputId": "82ef5e6f-1527-4ebf-a9e6-ec16105a4ebf"
      },
      "execution_count": 4,
      "outputs": [
        {
          "output_type": "stream",
          "name": "stdout",
          "text": [
            "[[None, None, None, None, None, None, None, None, None, None, None, None], [None, None, 1, None, 1, None, None, None, None, None, None, None], [None, None, None, None, 7, None, None, None, None, None, None, None], [None, None, None, None, 7, None, None, None, None, None, None, None], [None, None, None, None, None, None, None, None, None, None, None, None], [None, None, None, None, None, None, None, None, None, None, None, None]]\n",
            "[[None, None, None, None, None, None, None, None, None, None, None, None], [None, None, 1, None, 1, None, None, None, None, None, None, None], [None, None, None, None, 7, None, None, None, None, None, None, None], [None, None, None, None, 7, None, None, None, None, None, None, None], [None, None, None, None, 7, None, None, None, None, None, None, None], [None, None, None, None, None, None, None, None, None, None, None, None]]\n",
            "Maximo beneficio es :  40\n"
          ]
        }
      ]
    }
  ]
}