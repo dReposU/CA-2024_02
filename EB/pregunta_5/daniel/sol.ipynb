{
 "cells": [
  {
   "cell_type": "code",
   "execution_count": null,
   "metadata": {},
   "outputs": [
    {
     "name": "stdout",
     "output_type": "stream",
     "text": [
      "[5, 2, 3]\n"
     ]
    }
   ],
   "source": [
    "import random\n",
    "from typing import List, Tuple\n",
    "class LargestCoincidence:\n",
    "    def __init__(self, file_path: str):\n",
    "        with open(file_path, 'r') as file:\n",
    "            self.raw_data = file.read().strip().split(\"\\n\")\n",
    "        self.num_cases = int(self.raw_data[0])\n",
    "        self.cases = self._parse_cases(self.raw_data[1:])\n",
    "    \n",
    "    def _parse_cases(self, data: List[str]) -> List[Tuple[List[int], List[List[int]]]]:\n",
    "        cases = []\n",
    "        i = 0\n",
    "        while i < len(data):\n",
    "            main_array = list(map(int, data[i].split()[:-1]))\n",
    "            i += 1\n",
    "            subarrays = []\n",
    "            while i < len(data) and data[i] != \"0\":\n",
    "                subarray = list(map(int, data[i].split()[:-1]))\n",
    "                subarrays.append(subarray)\n",
    "                i += 1\n",
    "            cases.append((main_array, subarrays))\n",
    "            i += 1  # Skip the \"0\" line\n",
    "        return cases\n",
    "    \n",
    "    def _find_coincidence(self, main_array: List[int], subarrays: List[List[int]]) -> int:\n",
    "        max_coincidence = 0\n",
    "        for subarray in subarrays:\n",
    "            i, j = 0, 0\n",
    "            current_count = 0\n",
    "            while i < len(main_array) and j < len(subarray):\n",
    "                if main_array[i] == subarray[j]:\n",
    "                    current_count += 1\n",
    "                    j += 1  # Move to the next element in the subarray (continuous behavior)\n",
    "                i += 1  # Always move in the main array (uncontinuous behavior)\n",
    "            max_coincidence = max(max_coincidence, current_count)\n",
    "        return max_coincidence\n",
    "\n",
    "    \n",
    "    def evaluate(self) -> List[int]:\n",
    "        results = []\n",
    "        for main_array, subarrays in self.cases:\n",
    "            results.append(self._find_coincidence(main_array, subarrays))\n",
    "        return results\n",
    "    \n",
    "    def test_case(self, main_array: List[int], subarrays: List[List[int]]) -> int:\n",
    "        return self._find_coincidence(main_array, subarrays)\n",
    "\n",
    "# Example Usage\n",
    "file_path = \"carrera.txt\"  # Ensure the file exists and is properly formatted\n",
    "lc = LargestCoincidence(file_path)\n",
    "print(lc.evaluate())\n",
    "\n"
   ]
  },
  {
   "cell_type": "code",
   "execution_count": 9,
   "metadata": {},
   "outputs": [
    {
     "data": {
      "text/plain": [
       "2"
      ]
     },
     "execution_count": 9,
     "metadata": {},
     "output_type": "execute_result"
    }
   ],
   "source": [
    "# Seems to work fine since in case 1 the ouptut is 5. This might mean that the 4th case is 2 (since it starts as 1, 3, 1 ...)\n",
    "lc.test_case([1,2,3,4,5,6,7,8,9,0], [[1, 3, 1, 3, 5, 7, 8, 9, 3, 4, 0]])"
   ]
  }
 ],
 "metadata": {
  "kernelspec": {
   "display_name": "Python 3",
   "language": "python",
   "name": "python3"
  },
  "language_info": {
   "codemirror_mode": {
    "name": "ipython",
    "version": 3
   },
   "file_extension": ".py",
   "mimetype": "text/x-python",
   "name": "python",
   "nbconvert_exporter": "python",
   "pygments_lexer": "ipython3",
   "version": "3.11.9"
  }
 },
 "nbformat": 4,
 "nbformat_minor": 2
}
